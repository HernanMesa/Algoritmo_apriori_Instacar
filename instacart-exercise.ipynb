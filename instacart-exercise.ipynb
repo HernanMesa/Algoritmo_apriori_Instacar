{
 "cells": [
  {
   "cell_type": "code",
   "execution_count": null,
   "id": "3cc151c3",
   "metadata": {},
   "outputs": [],
   "source": [
    "import pandas as pd"
   ]
  },
  {
   "cell_type": "code",
   "execution_count": null,
   "id": "71dfe28d",
   "metadata": {},
   "outputs": [],
   "source": [
    "%%capture\n",
    "\"\"\"\n",
    "# loading datasets\n",
    "orders = pd.read_csv('orders.csv')\n",
    "products = pd.read_csv(\"products.csv\")\n",
    "order_products_train = pd.read_csv(\"order_products__train.csv\")\n",
    "\n",
    "# Merging datasets\n",
    "full = order_products_train.merge(products, on='product_id',how='outer', indicator=True)\n",
    "# lost 10565 observations possible due this is train data.\n",
    "\n",
    "# reset index and organize by values data\n",
    "full =full[full['_merge']=='both'].reset_index(drop=True)\n",
    "full =full.sort_values('order_id')\n",
    "\n",
    "\n",
    "# Pass the transaction to list of lists,\n",
    "# keeping the transactions in data.\n",
    "transactions ={}\n",
    "for iden in full['order_id'].unique():\n",
    "    transactions[iden]=[]\n",
    "for index in full.index:\n",
    "    transactions[full.loc[index,'order_id']].append(full.loc[index,'product_name'])\n",
    "\n",
    "data = []\n",
    "for t in transactions:\n",
    "    data.append(transactions[t])\n",
    "    \n",
    "# Pass data to a csv file\n",
    "\n",
    "with open('TransactionsInstacart.csv','w') as f:\n",
    "    for transaction in data:\n",
    "        for item in transaction:\n",
    "            f.write(str(item) + ',')\n",
    "        f.write('\\n')\n",
    "        \n",
    "\"\"\""
   ]
  },
  {
   "cell_type": "code",
   "execution_count": null,
   "id": "740394ca",
   "metadata": {},
   "outputs": [],
   "source": [
    "# run apriori algorithm "
   ]
  },
  {
   "cell_type": "code",
   "execution_count": null,
   "id": "5ad2aaa7",
   "metadata": {},
   "outputs": [],
   "source": [
    "%load_ext rpy2.ipython"
   ]
  },
  {
   "cell_type": "code",
   "execution_count": null,
   "id": "86fb133b",
   "metadata": {},
   "outputs": [],
   "source": [
    "%%R\n",
    "install.packages(\"arules\")"
   ]
  },
  {
   "cell_type": "code",
   "execution_count": null,
   "id": "6aad45a3",
   "metadata": {},
   "outputs": [],
   "source": [
    "%%R\n",
    "library(\"arules\")\n",
    "# After that we can the products we can describe the aisles and departments!"
   ]
  },
  {
   "cell_type": "code",
   "execution_count": null,
   "id": "1f6eca15",
   "metadata": {},
   "outputs": [],
   "source": [
    "!ls"
   ]
  },
  {
   "cell_type": "code",
   "execution_count": null,
   "id": "0920ffb1",
   "metadata": {},
   "outputs": [],
   "source": [
    "%%R\n",
    "baskets <- read.transactions('TransactionsInstacart.csv', sep=',')"
   ]
  },
  {
   "cell_type": "code",
   "execution_count": null,
   "id": "3dbe58f7",
   "metadata": {},
   "outputs": [],
   "source": [
    "%%R\n",
    "Rules <- apriori(baskets, parameter=list(support=1/10, confidence=0.2, minlen=2))\n",
    "rulesordered <- sort(Rules, by = \"lift\")"
   ]
  }
 ],
 "metadata": {
  "kernelspec": {
   "display_name": "Python 3 (ipykernel)",
   "language": "python",
   "name": "python3"
  },
  "language_info": {
   "codemirror_mode": {
    "name": "ipython",
    "version": 3
   },
   "file_extension": ".py",
   "mimetype": "text/x-python",
   "name": "python",
   "nbconvert_exporter": "python",
   "pygments_lexer": "ipython3",
   "version": "3.10.4"
  }
 },
 "nbformat": 4,
 "nbformat_minor": 5
}
