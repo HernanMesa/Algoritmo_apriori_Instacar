{
 "cells": [
  {
   "cell_type": "code",
   "execution_count": 242,
   "id": "3cc151c3",
   "metadata": {
    "id": "3cc151c3"
   },
   "outputs": [],
   "source": [
    "import pandas as pd"
   ]
  },
  {
   "cell_type": "code",
   "execution_count": 243,
   "id": "71dfe28d",
   "metadata": {
    "id": "71dfe28d"
   },
   "outputs": [],
   "source": [
    "#\"\"\"\n",
    "# loading datasets\n",
    "orders = pd.read_csv('orders.csv')\n",
    "products = pd.read_csv(\"products.csv\")\n",
    "products['product_name'] = products['product_name'].apply(lambda x: x.upper())\n",
    "products['product_name'] = products['product_name'].apply(lambda x: x.replace(\",\",\"~~\"))\n",
    "order_products_train = pd.read_csv(\"order_products__train.csv\")\n",
    "\n",
    "# Merging datasets\n",
    "full = order_products_train.merge(products, on='product_id',how='outer', indicator=True)\n",
    "# lost 10565 observations possible due this is train data.\n",
    "\n",
    "# reset index and organize by values data\n",
    "full =full[full['_merge']=='both'].reset_index(drop=True)\n",
    "full =full.sort_values('order_id')\n",
    "\n",
    "\n",
    "# Pass the transaction to list of lists,\n",
    "# keeping the transactions in data.\n",
    "transactions ={}\n",
    "for iden in full['order_id'].unique():\n",
    "    transactions[iden]=[]\n",
    "for index in full.index:\n",
    "    transactions[full.loc[index,'order_id']].append(full.loc[index,'product_name'])\n",
    "\n",
    "data = []\n",
    "for t in transactions:\n",
    "    data.append(transactions[t])\n",
    "    \n",
    "data_ = data.copy()\n",
    "data4 = [T for T in data if len(T)<=4]\n",
    "data15 = [T for T in data if len(T)<=15]\n",
    "\n",
    "# Pass data to a csv file\n",
    "\n",
    "with open('TransactionsInstacart.csv','w') as f:\n",
    "    for transaction in data_:\n",
    "        for item in transaction:\n",
    "            f.write(str(item) + '|')\n",
    "        f.write('\\n')\n",
    "        \n",
    "        \n",
    "with open('TransactionsInstacart4.csv','w') as f:\n",
    "    for transaction in data4:\n",
    "        for item in transaction:\n",
    "            f.write(str(item) + '|')\n",
    "        f.write('\\n')\n",
    "                \n",
    "        \n",
    "with open('TransactionsInstacart15.csv','w') as f:\n",
    "    for transaction in data15:\n",
    "        for item in transaction:\n",
    "            f.write(str(item) + '|')\n",
    "        f.write('\\n')\n",
    "        \n",
    "#\"\"\""
   ]
  },
  {
   "cell_type": "code",
   "execution_count": 244,
   "id": "740394ca",
   "metadata": {
    "id": "740394ca"
   },
   "outputs": [],
   "source": [
    "# run apriori algorithm "
   ]
  },
  {
   "cell_type": "code",
   "execution_count": 245,
   "id": "5ad2aaa7",
   "metadata": {
    "id": "5ad2aaa7",
    "outputId": "3276a1f2-a2a0-4b3d-a68c-f2a9f8e11fe1"
   },
   "outputs": [
    {
     "name": "stdout",
     "output_type": "stream",
     "text": [
      "The rpy2.ipython extension is already loaded. To reload it, use:\n",
      "  %reload_ext rpy2.ipython\n"
     ]
    }
   ],
   "source": [
    "%load_ext rpy2.ipython"
   ]
  },
  {
   "cell_type": "code",
   "execution_count": 246,
   "id": "86fb133b",
   "metadata": {
    "id": "86fb133b",
    "outputId": "581154d3-5963-4b49-de7b-5de9e7f61835"
   },
   "outputs": [
    {
     "name": "stdout",
     "output_type": "stream",
     "text": [
      "NULL\n"
     ]
    }
   ],
   "source": [
    "%%R\n",
    "#install.packages(\"arules\")"
   ]
  },
  {
   "cell_type": "code",
   "execution_count": 247,
   "id": "6aad45a3",
   "metadata": {
    "id": "6aad45a3"
   },
   "outputs": [],
   "source": [
    "%%R\n",
    "library(\"arules\")\n",
    "# After that we can the products we can describe the aisles and departments!"
   ]
  },
  {
   "cell_type": "code",
   "execution_count": 248,
   "id": "0920ffb1",
   "metadata": {
    "id": "0920ffb1"
   },
   "outputs": [],
   "source": [
    "%%R\n",
    "baskets <- read.transactions('TransactionsInstacart.csv', sep=\"|\")\n",
    "baskets4 <- read.transactions('TransactionsInstacart4.csv', sep=\"|\")\n",
    "baskets15 <- read.transactions('TransactionsInstacart15.csv', sep=\"|\")"
   ]
  },
  {
   "cell_type": "code",
   "execution_count": 249,
   "id": "5864424b",
   "metadata": {},
   "outputs": [
    {
     "data": {
      "image/png": "[encoded data removed]"
     },
     "metadata": {},
     "output_type": "display_data"
    }
   ],
   "source": [
    "%%R\n",
    "itemFrequencyPlot(baskets,support=0.055)  #minsuport\n",
    "# we can uses topN=# to see the more "
   ]
  },
  {
   "cell_type": "code",
   "execution_count": 250,
   "id": "3dbe58f7",
   "metadata": {
    "id": "3dbe58f7"
   },
   "outputs": [
    {
     "name": "stdout",
     "output_type": "stream",
     "text": [
      "Apriori\n",
      "\n",
      "Parameter specification:\n",
      " confidence minval smax arem  aval originalSupport maxtime support minlen\n",
      "        0.1    0.1    1 none FALSE            TRUE       5    0.01      2\n",
      " maxlen target  ext\n",
      "     10  rules TRUE\n",
      "\n",
      "Algorithmic control:\n",
      " filter tree heap memopt load sort verbose\n",
      "    0.1 TRUE TRUE  FALSE TRUE    2    TRUE\n",
      "\n",
      "Absolute minimum support count: 1312 \n",
      "\n",
      "set item appearances ...[0 item(s)] done [0.00s].\n",
      "set transactions ...[49103 item(s), 131209 transaction(s)] done [1.95s].\n",
      "sorting and recoding items ... [95 item(s)] done [0.04s].\n",
      "creating transaction tree ... done [0.13s].\n",
      "checking subsets of size 1 2 3 done [0.02s].\n",
      "writing ... [25 rule(s)] done [0.00s].\n",
      "creating S4 object  ... done [0.11s].\n",
      "    lhs                       rhs                      support    confidence\n",
      "[1] {LIMES}                => {LARGE LEMON}            0.01134069 0.2586027 \n",
      "[2] {LARGE LEMON}          => {LIMES}                  0.01134069 0.1922481 \n",
      "[3] {ORGANIC RASPBERRIES}  => {ORGANIC STRAWBERRIES}   0.01131782 0.2879023 \n",
      "[4] {ORGANIC STRAWBERRIES} => {ORGANIC RASPBERRIES}    0.01131782 0.1447651 \n",
      "[5] {ORGANIC HASS AVOCADO} => {BAG OF ORGANIC BANANAS} 0.01637083 0.3145409 \n",
      "    coverage   lift     count\n",
      "[1] 0.04385370 4.383851 1488 \n",
      "[2] 0.05898986 4.383851 1488 \n",
      "[3] 0.03931133 3.682528 1485 \n",
      "[4] 0.07818061 3.682528 1485 \n",
      "[5] 0.05204673 2.824432 2148 \n"
     ]
    }
   ],
   "source": [
    "%%R\n",
    "Rules <- apriori(baskets, parameter=list(support=0.01, confidence=0.1, minlen=2))\n",
    "rulesordered <- sort(Rules, by = \"lift\")[1:5]\n",
    "inspect(rulesordered)"
   ]
  },
  {
   "cell_type": "code",
   "execution_count": 251,
   "id": "837b6853",
   "metadata": {},
   "outputs": [],
   "source": [
    "df = [['item1','item2', 'item3', 'item4'], ['item2','item'], ['item','item3','item1'], ['item1', 'last']]"
   ]
  },
  {
   "cell_type": "code",
   "execution_count": 252,
   "id": "e63e17b9",
   "metadata": {},
   "outputs": [],
   "source": [
    "counter = pd.DataFrame([len(T) for T in data], columns=['k-itemset'])"
   ]
  },
  {
   "cell_type": "code",
   "execution_count": 253,
   "id": "59d13804",
   "metadata": {},
   "outputs": [],
   "source": [
    "to_testing = pd.DataFrame(counter['k-itemset'].value_counts().sort_index())"
   ]
  },
  {
   "cell_type": "code",
   "execution_count": 254,
   "id": "e548ebec",
   "metadata": {},
   "outputs": [
    {
     "data": {
      "text/plain": [
       "131209"
      ]
     },
     "execution_count": 254,
     "metadata": {},
     "output_type": "execute_result"
    }
   ],
   "source": [
    "to_testing['k-itemset'].sum()"
   ]
  },
  {
   "cell_type": "code",
   "execution_count": 255,
   "id": "e55a351d",
   "metadata": {},
   "outputs": [],
   "source": [
    "to_testing[['k-itemset']].cumsum().to_excel('cumulativedistribution.xlsx')"
   ]
  },
  {
   "cell_type": "code",
   "execution_count": 256,
   "id": "8e44bee3",
   "metadata": {},
   "outputs": [
    {
     "data": {
      "text/plain": [
       "2      6\n",
       "1      3\n",
       "3      3\n",
       "4      3\n",
       "5      2\n",
       "      ..\n",
       "860    1\n",
       "679    1\n",
       "634    1\n",
       "553    1\n",
       "403    1\n",
       "Name: k-itemset, Length: 63, dtype: int64"
      ]
     },
     "execution_count": 256,
     "metadata": {},
     "output_type": "execute_result"
    }
   ],
   "source": [
    "to_testing['k-itemset'].value_counts()"
   ]
  },
  {
   "cell_type": "code",
   "execution_count": 257,
   "id": "a411602e",
   "metadata": {},
   "outputs": [
    {
     "data": {
      "text/plain": [
       "<AxesSubplot:>"
      ]
     },
     "execution_count": 257,
     "metadata": {},
     "output_type": "execute_result"
    },
    {
     "data": {
      "image/png": "[encoded data removed]",
      "text/plain": [
       "<Figure size 432x288 with 1 Axes>"
      ]
     },
     "metadata": {
      "needs_background": "light"
     },
     "output_type": "display_data"
    }
   ],
   "source": [
    "import pandas as pd\n",
    "cumsum = pd.read_excel('cumulativedistribution.xlsx')\n",
    "cumsum[1:16]['k-itemset'].plot(kind='bar')"
   ]
  },
  {
   "cell_type": "code",
   "execution_count": 258,
   "id": "02186b3c",
   "metadata": {},
   "outputs": [
    {
     "data": {
      "text/plain": [
       "<AxesSubplot:>"
      ]
     },
     "execution_count": 258,
     "metadata": {},
     "output_type": "execute_result"
    },
    {
     "data": {
      "image/png": "[encoded data removed]",
      "text/plain": [
       "<Figure size 432x288 with 1 Axes>"
      ]
     },
     "metadata": {
      "needs_background": "light"
     },
     "output_type": "display_data"
    }
   ],
   "source": [
    "cumsum[1:16]['k-itemset'].plot(kind='bar')"
   ]
  },
  {
   "cell_type": "code",
   "execution_count": 259,
   "id": "ac8eec74",
   "metadata": {},
   "outputs": [
    {
     "data": {
      "image/png": "[encoded data removed]"
     },
     "metadata": {},
     "output_type": "display_data"
    }
   ],
   "source": [
    "%%R\n",
    "itemFrequencyPlot(baskets4,support=0.01)  #minsuport"
   ]
  },
  {
   "cell_type": "code",
   "execution_count": 260,
   "id": "7abe098a",
   "metadata": {},
   "outputs": [
    {
     "data": {
      "image/png": "[encoded data removed]"
     },
     "metadata": {},
     "output_type": "display_data"
    }
   ],
   "source": [
    "%%R\n",
    "itemFrequencyPlot(baskets15,support=0.02)  #minsuport"
   ]
  },
  {
   "cell_type": "code",
   "execution_count": 261,
   "id": "00413c68",
   "metadata": {},
   "outputs": [
    {
     "name": "stdout",
     "output_type": "stream",
     "text": [
      "Apriori\n",
      "\n",
      "Parameter specification:\n",
      " confidence minval smax arem  aval originalSupport maxtime support minlen\n",
      "        0.3    0.1    1 none FALSE            TRUE       5   0.001      2\n",
      " maxlen target  ext\n",
      "     10  rules TRUE\n",
      "\n",
      "Algorithmic control:\n",
      " filter tree heap memopt load sort verbose\n",
      "    0.1 TRUE TRUE  FALSE TRUE    2    TRUE\n",
      "\n",
      "Absolute minimum support count: 131 \n",
      "\n",
      "set item appearances ...[0 item(s)] done [0.00s].\n",
      "set transactions ...[49103 item(s), 131209 transaction(s)] done [2.16s].\n",
      "sorting and recoding items ... [1722 item(s)] done [0.06s].\n",
      "creating transaction tree ... done [0.20s].\n",
      "checking subsets of size 1 2 3 4 done [0.15s].\n",
      "writing ... [233 rule(s)] done [0.01s].\n",
      "creating S4 object  ... done [0.13s].\n",
      "      lhs                                                       rhs                                                         support confidence    coverage      lift count\n",
      "[1]   {BLUEBERRY YOGHURT}                                    => {STRAWBERRY RHUBARB YOGHURT}                            0.001082243  0.3034188 0.003566828 83.813216   142\n",
      "[2]   {NONFAT ICELANDIC STYLE STRAWBERRY YOGURT}             => {ICELANDIC STYLE SKYR BLUEBERRY NON-FAT YOGURT}         0.001089864  0.4121037 0.002644636 81.433314   143\n",
      "[3]   {NON FAT ACAI & MIXED BERRIES YOGURT}                  => {ICELANDIC STYLE SKYR BLUEBERRY NON-FAT YOGURT}         0.001196564  0.3925000 0.003048571 77.559537   157\n",
      "[4]   {NON FAT RASPBERRY YOGURT}                             => {ICELANDIC STYLE SKYR BLUEBERRY NON-FAT YOGURT}         0.001570014  0.3779817 0.004153678 74.690654   206\n",
      "[5]   {ICELANDIC STYLE SKYR BLUEBERRY NON-FAT YOGURT}        => {NON FAT RASPBERRY YOGURT}                              0.001570014  0.3102410 0.005060628 74.690654   206\n",
      "[6]   {TOTAL 2% LOWFAT GREEK STRAINED YOGURT WITH PEACH}     => {TOTAL 2% WITH STRAWBERRY LOWFAT GREEK STRAINED YOGURT} 0.001547150  0.3383333 0.004572857 49.879077   203\n",
      "[7]   {TOTAL 2% LOWFAT GREEK STRAINED YOGURT WITH BLUEBERRY} => {TOTAL 2% WITH STRAWBERRY LOWFAT GREEK STRAINED YOGURT} 0.001539529  0.3377926 0.004557614 49.799365   202\n",
      "[8]   {SPARKLING LEMON WATER,                                                                                                                                             \n",
      "       SPARKLING WATER GRAPEFRUIT}                           => {LIME SPARKLING WATER}                                  0.001067000  0.4605263 0.002316914 32.434352   140\n",
      "[9]   {YELLOW BELL PEPPER}                                   => {ORANGE BELL PEPPER}                                    0.002819929  0.3336339 0.008452164 25.057682   370\n",
      "[10]  {LIME SPARKLING WATER,                                                                                                                                              \n",
      "       SPARKLING LEMON WATER}                                => {SPARKLING WATER GRAPEFRUIT}                            0.001067000  0.4516129 0.002362643 18.610451   140\n",
      "[11]  {ORGANIC YELLOW SQUASH}                                => {ORGANIC ZUCCHINI}                                      0.001234671  0.4512535 0.002736093 13.686666   162\n",
      "[12]  {LIMES,                                                                                                                                                             \n",
      "       ORGANIC RED ONION}                                    => {ORGANIC CILANTRO}                                      0.001501421  0.3167203 0.004740528 12.423482   197\n",
      "[13]  {BUNCHED CILANTRO,                                                                                                                                                  \n",
      "       ORGANIC AVOCADO}                                      => {LIMES}                                                 0.001013650  0.4666667 0.002172107 10.641444   133\n",
      "[14]  {BUNCHED CILANTRO,                                                                                                                                                  \n",
      "       LARGE LEMON}                                          => {LIMES}                                                 0.001348993  0.4550129 0.002964736 10.375701   177\n",
      "[15]  {JALAPENO PEPPERS,                                                                                                                                                  \n",
      "       LARGE LEMON}                                          => {LIMES}                                                 0.001196564  0.4472934 0.002675121 10.199674   157\n",
      "[16]  {LARGE LEMON,                                                                                                                                                       \n",
      "       ORGANIC CILANTRO}                                     => {LIMES}                                                 0.001554771  0.4387097 0.003543964 10.003938   204\n",
      "[17]  {ORGANIC AVOCADO,                                                                                                                                                   \n",
      "       ORGANIC CILANTRO}                                     => {LIMES}                                                 0.001531907  0.4044266 0.003787850  9.222177   201\n",
      "[18]  {ORGANIC CILANTRO,                                                                                                                                                  \n",
      "       ORGANIC RED ONION}                                    => {LIMES}                                                 0.001501421  0.3716981 0.004039357  8.475867   197\n",
      "[19]  {ORGANIC CILANTRO,                                                                                                                                                  \n",
      "       ORGANIC HASS AVOCADO}                                 => {LIMES}                                                 0.001227050  0.3515284 0.003490614  8.015935   161\n",
      "[20]  {ORGANIC CILANTRO,                                                                                                                                                  \n",
      "       ORGANIC GARLIC}                                       => {LIMES}                                                 0.001288021  0.3506224 0.003673528  7.995276   169\n",
      "[21]  {BANANA,                                                                                                                                                            \n",
      "       ORGANIC CILANTRO}                                     => {LIMES}                                                 0.001440450  0.3455210 0.004168921  7.878948   189\n",
      "[22]  {ORGANIC CILANTRO,                                                                                                                                                  \n",
      "       ORGANIC YELLOW ONION}                                 => {LIMES}                                                 0.001067000  0.3431373 0.003109543  7.824591   140\n",
      "[23]  {BAG OF ORGANIC BANANAS,                                                                                                                                            \n",
      "       ORGANIC HASS AVOCADO,                                                                                                                                              \n",
      "       ORGANIC STRAWBERRIES}                                 => {ORGANIC RASPBERRIES}                                   0.001409964  0.3067993 0.004595721  7.804349   185\n",
      "[24]  {BANANA,                                                                                                                                                            \n",
      "       BUNCHED CILANTRO}                                     => {LIMES}                                                 0.001074621  0.3256351 0.003300079  7.425488   141\n",
      "[25]  {ORGANIC BABY SPINACH,                                                                                                                                              \n",
      "       ORGANIC CILANTRO}                                     => {LIMES}                                                 0.001455693  0.3167496 0.004595721  7.222870   191\n"
     ]
    },
    {
     "name": "stdout",
     "output_type": "stream",
     "text": [
      "[26]  {ORGANIC AVOCADO,                                                                                                                                                   \n",
      "       ORGANIC RED ONION}                                    => {LIMES}                                                 0.001158457  0.3058350 0.003787850  6.973984   152\n",
      "[27]  {ASPARAGUS,                                                                                                                                                         \n",
      "       LIMES}                                                => {LARGE LEMON}                                           0.001143214  0.3836317 0.002979979  6.503351   150\n",
      "[28]  {BAG OF ORGANIC BANANAS,                                                                                                                                            \n",
      "       ORGANIC RASPBERRIES,                                                                                                                                               \n",
      "       ORGANIC STRAWBERRIES}                                 => {ORGANIC HASS AVOCADO}                                  0.001409964  0.3339350 0.004222271  6.416061   185\n",
      "[29]  {LIMES,                                                                                                                                                             \n",
      "       STRAWBERRIES}                                         => {LARGE LEMON}                                           0.001082243  0.3746702 0.002888521  6.351434   142\n",
      "[30]  {ORGANIC LEMON,                                                                                                                                                     \n",
      "       ORGANIC RASPBERRIES}                                  => {ORGANIC HASS AVOCADO}                                  0.001006029  0.3291771 0.003056193  6.324644   132\n",
      "[31]  {LIMES,                                                                                                                                                             \n",
      "       ORGANIC AVOCADO}                                      => {LARGE LEMON}                                           0.002690364  0.3669439 0.007331814  6.220457   353\n",
      "[32]  {BAG OF ORGANIC BANANAS,                                                                                                                                            \n",
      "       ORGANIC LEMON}                                        => {ORGANIC HASS AVOCADO}                                  0.002332157  0.3164426 0.007369921  6.079970   306\n",
      "[33]  {BAG OF ORGANIC BANANAS,                                                                                                                                            \n",
      "       ORGANIC TOMATO CLUSTER}                               => {ORGANIC HASS AVOCADO}                                  0.001348993  0.3116197 0.004328971  5.987306   177\n",
      "[34]  {LIMES,                                                                                                                                                             \n",
      "       ORGANIC ZUCCHINI}                                     => {LARGE LEMON}                                           0.001219429  0.3508772 0.003475371  5.948094   160\n",
      "[35]  {ORGANIC LEMON,                                                                                                                                                     \n",
      "       ORGANIC STRAWBERRIES}                                 => {ORGANIC HASS AVOCADO}                                  0.001409964  0.3088481 0.004565236  5.934053   185\n",
      "[36]  {LIMES,                                                                                                                                                             \n",
      "       YELLOW ONIONS}                                        => {LARGE LEMON}                                           0.001242293  0.3497854 0.003551586  5.929586   163\n",
      "[37]  {ORGANIC AVOCADO,                                                                                                                                                   \n",
      "       ORGANIC GARLIC}                                       => {LARGE LEMON}                                           0.001341371  0.3352381 0.004001250  5.682979   176\n",
      "[38]  {BANANA,                                                                                                                                                            \n",
      "       LIMES}                                                => {LARGE LEMON}                                           0.003109543  0.3344262 0.009298143  5.669216   408\n",
      "[39]  {LIMES,                                                                                                                                                             \n",
      "       ORGANIC CUCUMBER}                                     => {LARGE LEMON}                                           0.001196564  0.3326271 0.003597314  5.638717   157\n",
      "[40]  {LIMES,                                                                                                                                                             \n",
      "       ORGANIC BABY SPINACH}                                 => {LARGE LEMON}                                           0.002233079  0.3325766 0.006714478  5.637861   293\n",
      "[41]  {BUNCHED CILANTRO,                                                                                                                                                  \n",
      "       LIMES}                                                => {LARGE LEMON}                                           0.001348993  0.3308411 0.004077464  5.608441   177\n",
      "[42]  {BAG OF ORGANIC BANANAS,                                                                                                                                            \n",
      "       ORGANIC HASS AVOCADO,                                                                                                                                              \n",
      "       ORGANIC RASPBERRIES}                                  => {ORGANIC STRAWBERRIES}                                  0.001409964  0.4262673 0.003307700  5.452340   185\n",
      "[43]  {LIMES,                                                                                                                                                             \n",
      "       ORGANIC GARLIC}                                       => {LARGE LEMON}                                           0.001478557  0.3139159 0.004710043  5.321523   194\n",
      "[44]  {ORGANIC AVOCADO,                                                                                                                                                   \n",
      "       ORGANIC RED ONION}                                    => {LARGE LEMON}                                           0.001173700  0.3098592 0.003787850  5.252753   154\n",
      "[45]  {JALAPENO PEPPERS,                                                                                                                                                  \n",
      "       LIMES}                                                => {LARGE LEMON}                                           0.001196564  0.3072407 0.003894550  5.208365   157\n",
      "[46]  {ORGANIC HASS AVOCADO,                                                                                                                                              \n",
      "       ORGANIC RASPBERRIES,                                                                                                                                               \n",
      "       ORGANIC STRAWBERRIES}                                 => {BAG OF ORGANIC BANANAS}                                0.001409964  0.5763240 0.002446479  5.175123   185\n",
      "[47]  {ORGANIC BLUEBERRIES,                                                                                                                                               \n",
      "       ORGANIC RASPBERRIES}                                  => {ORGANIC STRAWBERRIES}                                  0.001874871  0.3993506 0.004694800  5.108052   246\n"
     ]
    },
    {
     "name": "stdout",
     "output_type": "stream",
     "text": [
      "[48]  {ORGANIC RASPBERRIES,                                                                                                                                               \n",
      "       ORGANIC WHOLE MILK}                                   => {ORGANIC STRAWBERRIES}                                  0.001105107  0.3972603 0.002781821  5.081314   145\n",
      "[49]  {ORGANIC LARGE EXTRA FANCY FUJI APPLE,                                                                                                                              \n",
      "       ORGANIC RASPBERRIES}                                  => {ORGANIC STRAWBERRIES}                                  0.001089864  0.3823529 0.002850414  4.890636   143\n",
      "[50]  {ORGANIC CUCUMBER,                                                                                                                                                  \n",
      "       ORGANIC RASPBERRIES}                                  => {ORGANIC STRAWBERRIES}                                  0.001402343  0.3755102 0.003734500  4.803112   184\n",
      "[51]  {LIMES,                                                                                                                                                             \n",
      "       ORGANIC RASPBERRIES}                                  => {ORGANIC STRAWBERRIES}                                  0.001021271  0.3651226 0.002797064  4.670245   134\n",
      "[52]  {ORGANIC HASS AVOCADO,                                                                                                                                              \n",
      "       ORGANIC KIWI}                                         => {BAG OF ORGANIC BANANAS}                                0.001219429  0.5194805 0.002347400  4.664695   160\n",
      "[53]  {ORGANIC HASS AVOCADO,                                                                                                                                              \n",
      "       ORGANIC RASPBERRIES}                                  => {ORGANIC STRAWBERRIES}                                  0.002446479  0.3614865 0.006767828  4.623736   321\n",
      "[54]  {ORGANIC HASS AVOCADO,                                                                                                                                              \n",
      "       ORGANIC WHOLE STRING CHEESE}                          => {BAG OF ORGANIC BANANAS}                                0.001013650  0.5135135 0.001973950  4.611114   133\n",
      "[55]  {ORGANIC LEMON,                                                                                                                                                     \n",
      "       ORGANIC RASPBERRIES}                                  => {ORGANIC STRAWBERRIES}                                  0.001082243  0.3541147 0.003056193  4.529444   142\n",
      "[56]  {BAG OF ORGANIC BANANAS,                                                                                                                                            \n",
      "       ORGANIC RASPBERRIES}                                  => {ORGANIC STRAWBERRIES}                                  0.004222271  0.3528662 0.011965643  4.513475   554\n",
      "[57]  {ORGANIC HASS AVOCADO,                                                                                                                                              \n",
      "       ORGANIC NAVEL ORANGE}                                 => {BAG OF ORGANIC BANANAS}                                0.001242293  0.4984709 0.002492207  4.476039   163\n",
      "[58]  {BANANA,                                                                                                                                                            \n",
      "       ORGANIC RASPBERRIES}                                  => {ORGANIC STRAWBERRIES}                                  0.002126379  0.3474471 0.006120007  4.444159   279\n",
      "[59]  {ORGANIC HASS AVOCADO,                                                                                                                                              \n",
      "       ORGANIC WHOLE MILK}                                   => {ORGANIC STRAWBERRIES}                                  0.001089864  0.3462470 0.003147650  4.428809   143\n",
      "[60]  {BAG OF ORGANIC BANANAS,                                                                                                                                            \n",
      "       ORGANIC WHOLE STRING CHEESE}                          => {ORGANIC STRAWBERRIES}                                  0.001379479  0.3441065 0.004008871  4.401430   181\n",
      "[61]  {ORGANIC HASS AVOCADO,                                                                                                                                              \n",
      "       ORGANIC RASPBERRIES}                                  => {BAG OF ORGANIC BANANAS}                                0.003307700  0.4887387 0.006767828  4.388648   434\n",
      "[62]  {BAG OF ORGANIC BANANAS,                                                                                                                                            \n",
      "       ORGANIC KIWI}                                         => {ORGANIC STRAWBERRIES}                                  0.001478557  0.3409490 0.004336593  4.361043   194\n",
      "[63]  {ORGANIC LEMON,                                                                                                                                                     \n",
      "       ORGANIC RASPBERRIES}                                  => {BAG OF ORGANIC BANANAS}                                0.001478557  0.4837905 0.003056193  4.344215   194\n",
      "[64]  {ORGANIC HASS AVOCADO,                                                                                                                                              \n",
      "       ORGANIC UNSWEETENED ALMOND MILK}                      => {BAG OF ORGANIC BANANAS}                                0.001006029  0.4800000 0.002095893  4.310178   132\n",
      "[65]  {ORGANIC BROCCOLI,                                                                                                                                                  \n",
      "       ORGANIC HASS AVOCADO}                                 => {BAG OF ORGANIC BANANAS}                                0.001013650  0.4784173 0.002118757  4.295966   133\n",
      "[66]  {BAG OF ORGANIC BANANAS,                                                                                                                                            \n",
      "       ORGANIC BLACKBERRIES}                                 => {ORGANIC STRAWBERRIES}                                  0.001127971  0.3348416 0.003368671  4.282924   148\n",
      "[67]  {ORGANIC BABY SPINACH,                                                                                                                                              \n",
      "       ORGANIC HASS AVOCADO,                                                                                                                                              \n",
      "       ORGANIC STRAWBERRIES}                                 => {BAG OF ORGANIC BANANAS}                                0.001059379  0.4744027 0.002233079  4.259917   139\n",
      "[68]  {ORGANIC BLACKBERRIES,                                                                                                                                              \n",
      "       ORGANIC RASPBERRIES}                                  => {ORGANIC STRAWBERRIES}                                  0.001127971  0.3325843 0.003391536  4.254050   148\n",
      "[69]  {BAG OF ORGANIC BANANAS,                                                                                                                                            \n",
      "       ORGANIC CUCUMBER}                                     => {ORGANIC STRAWBERRIES}                                  0.002873279  0.3324515 0.008642700  4.252352   377\n",
      "[70]  {ORGANIC BABY SPINACH,                                                                                                                                              \n",
      "       ORGANIC RASPBERRIES}                                  => {ORGANIC STRAWBERRIES}                                  0.001722443  0.3323529 0.005182571  4.251092   226\n"
     ]
    },
    {
     "name": "stdout",
     "output_type": "stream",
     "text": [
      "[71]  {ORGANIC CUCUMBER,                                                                                                                                                  \n",
      "       ORGANIC GRAPE TOMATOES}                               => {ORGANIC BABY SPINACH}                                  0.001051757  0.3019694 0.003482993  4.245269   138\n",
      "[72]  {BAG OF ORGANIC BANANAS,                                                                                                                                            \n",
      "       ORGANIC GRADE A FREE RANGE LARGE BROWN EGGS}          => {ORGANIC STRAWBERRIES}                                  0.001021271  0.3316832 0.003079057  4.242525   134\n",
      "[73]  {ORGANIC GALA APPLES,                                                                                                                                               \n",
      "       ORGANIC HASS AVOCADO}                                 => {BAG OF ORGANIC BANANAS}                                0.001219429  0.4651163 0.002621771  4.176529   160\n",
      "[74]  {LARGE LEMON,                                                                                                                                                       \n",
      "       ORGANIC RASPBERRIES}                                  => {ORGANIC STRAWBERRIES}                                  0.001120350  0.3259424 0.003437264  4.169094   147\n",
      "[75]  {ORGANIC AVOCADO,                                                                                                                                                   \n",
      "       ORGANIC RASPBERRIES}                                  => {ORGANIC STRAWBERRIES}                                  0.001074621  0.3256351 0.003300079  4.165164   141\n",
      "[76]  {ORGANIC HASS AVOCADO,                                                                                                                                              \n",
      "       ORGANIC LARGE EXTRA FANCY FUJI APPLE}                 => {BAG OF ORGANIC BANANAS}                                0.001524286  0.4618938 0.003300079  4.147592   200\n",
      "[77]  {ORGANIC BLUEBERRIES,                                                                                                                                               \n",
      "       ORGANIC HASS AVOCADO}                                 => {ORGANIC STRAWBERRIES}                                  0.001067000  0.3225806 0.003307700  4.126095   140\n",
      "[78]  {ORGANIC CUCUMBER,                                                                                                                                                  \n",
      "       ORGANIC LEMON}                                        => {BAG OF ORGANIC BANANAS}                                0.001394721  0.4563591 0.003056193  4.097894   183\n",
      "[79]  {BAG OF ORGANIC BANANAS,                                                                                                                                            \n",
      "       ORGANIC BABY SPINACH,                                                                                                                                              \n",
      "       ORGANIC HASS AVOCADO}                                 => {ORGANIC STRAWBERRIES}                                  0.001059379  0.3180778 0.003330564  4.068500   139\n",
      "[80]  {BAG OF ORGANIC BANANAS,                                                                                                                                            \n",
      "       ORGANIC RED BELL PEPPER}                              => {ORGANIC STRAWBERRIES}                                  0.001371857  0.3169014 0.004328971  4.053453   180\n",
      "[81]  {BAG OF ORGANIC BANANAS,                                                                                                                                            \n",
      "       ORGANIC BROCCOLI}                                     => {ORGANIC STRAWBERRIES}                                  0.001135593  0.3163482 0.003589693  4.046377   149\n",
      "[82]  {ORGANIC NAVEL ORANGE,                                                                                                                                              \n",
      "       ORGANIC STRAWBERRIES}                                 => {BAG OF ORGANIC BANANAS}                                0.001257536  0.4471545 0.002812307  4.015240   165\n",
      "[83]  {ORGANIC YELLOW PEACHES}                               => {ORGANIC STRAWBERRIES}                                  0.001493800  0.3136000 0.004763393  4.011225   196\n",
      "[84]  {ORGANIC LARGE EXTRA FANCY FUJI APPLE,                                                                                                                              \n",
      "       ORGANIC RASPBERRIES}                                  => {BAG OF ORGANIC BANANAS}                                0.001272779  0.4465241 0.002850414  4.009580   167\n",
      "[85]  {BAG OF ORGANIC BANANAS,                                                                                                                                            \n",
      "       ORGANIC BLUEBERRIES}                                  => {ORGANIC STRAWBERRIES}                                  0.002484586  0.3119617 0.007964393  3.990270   326\n",
      "[86]  {ORGANIC LEMON,                                                                                                                                                     \n",
      "       ORGANIC STRAWBERRIES}                                 => {BAG OF ORGANIC BANANAS}                                0.002027300  0.4440735 0.004565236  3.987574   266\n",
      "[87]  {BAG OF ORGANIC BANANAS,                                                                                                                                            \n",
      "       ORGANIC TOMATO CLUSTER}                               => {ORGANIC STRAWBERRIES}                                  0.001341371  0.3098592 0.004328971  3.963376   176\n",
      "[88]  {ORGANIC GRAPE TOMATOES,                                                                                                                                            \n",
      "       ORGANIC HASS AVOCADO}                                 => {ORGANIC STRAWBERRIES}                                  0.001036514  0.3097950 0.003345807  3.962555   136\n",
      "[89]  {ORGANIC HASS AVOCADO,                                                                                                                                              \n",
      "       ORGANIC RED BELL PEPPER}                              => {BAG OF ORGANIC BANANAS}                                0.001288021  0.4389610 0.002934250  3.941667   169\n",
      "[90]  {ORGANIC BABY SPINACH,                                                                                                                                              \n",
      "       ORGANIC BLUEBERRIES}                                  => {ORGANIC STRAWBERRIES}                                  0.001509043  0.3079316 0.004900578  3.938720   198\n",
      "[91]  {ORGANIC HASS AVOCADO,                                                                                                                                              \n",
      "       ORGANIC STRAWBERRIES}                                 => {BAG OF ORGANIC BANANAS}                                0.004595721  0.4375907 0.010502328  3.929362   603\n",
      "[92]  {ORGANIC RASPBERRIES,                                                                                                                                               \n",
      "       ORGANIC YELLOW ONION}                                 => {BAG OF ORGANIC BANANAS}                                0.001135593  0.4331395 0.002621771  3.889393   149\n",
      "[93]  {ORGANIC HASS AVOCADO,                                                                                                                                              \n",
      "       ORGANIC LEMON}                                        => {BAG OF ORGANIC BANANAS}                                0.002332157  0.4322034 0.005395971  3.880986   306\n",
      "[94]  {ORGANIC BROCCOLI,                                                                                                                                                  \n"
     ]
    },
    {
     "name": "stdout",
     "output_type": "stream",
     "text": [
      "       ORGANIC STRAWBERRIES}                                 => {BAG OF ORGANIC BANANAS}                                0.001135593  0.4318841 0.002629393  3.878119   149\n",
      "[95]  {ORGANIC CUCUMBER,                                                                                                                                                  \n",
      "       ORGANIC RASPBERRIES}                                  => {BAG OF ORGANIC BANANAS}                                0.001600500  0.4285714 0.003734500  3.848373   210\n",
      "[96]  {BAG OF ORGANIC BANANAS,                                                                                                                                            \n",
      "       ORGANIC GRAPE TOMATOES}                               => {ORGANIC STRAWBERRIES}                                  0.001669093  0.3004115 0.005556021  3.842532   219\n",
      "[97]  {APPLE HONEYCRISP ORGANIC,                                                                                                                                          \n",
      "       ORGANIC HASS AVOCADO}                                 => {BAG OF ORGANIC BANANAS}                                0.001166079  0.4273743 0.002728471  3.837624   153\n",
      "[98]  {ORGANIC KIWI,                                                                                                                                                      \n",
      "       ORGANIC STRAWBERRIES}                                 => {BAG OF ORGANIC BANANAS}                                0.001478557  0.4208243 0.003513478  3.778807   194\n",
      "[99]  {ORGANIC BLUEBERRIES,                                                                                                                                               \n",
      "       ORGANIC HASS AVOCADO}                                 => {BAG OF ORGANIC BANANAS}                                0.001379479  0.4170507 0.003307700  3.744922   181\n",
      "[100] {ORGANIC CUCUMBER,                                                                                                                                                  \n",
      "       ORGANIC HASS AVOCADO}                                 => {BAG OF ORGANIC BANANAS}                                0.002370264  0.4141145 0.005723693  3.718557   311\n",
      "[101] {ORGANIC CUCUMBER,                                                                                                                                                  \n",
      "       ORGANIC STRAWBERRIES}                                 => {BAG OF ORGANIC BANANAS}                                0.002873279  0.4106754 0.006996471  3.687675   377\n",
      "[102] {ORGANIC LARGE EXTRA FANCY FUJI APPLE,                                                                                                                              \n",
      "       ORGANIC STRAWBERRIES}                                 => {BAG OF ORGANIC BANANAS}                                0.001775793  0.4102113 0.004328971  3.683507   233\n",
      "[103] {APPLE HONEYCRISP ORGANIC,                                                                                                                                          \n",
      "       ORGANIC STRAWBERRIES}                                 => {BAG OF ORGANIC BANANAS}                                0.001280400  0.4077670 0.003140029  3.661559   168\n",
      "[104] {ORGANIC HASS AVOCADO,                                                                                                                                              \n",
      "       ORGANIC YELLOW ONION}                                 => {BAG OF ORGANIC BANANAS}                                0.002012057  0.4067797 0.004946307  3.652693   264\n",
      "[105] {ORGANIC BABY CARROTS,                                                                                                                                              \n",
      "       ORGANIC HASS AVOCADO}                                 => {BAG OF ORGANIC BANANAS}                                0.001158457  0.4064171 0.002850414  3.649438   152\n",
      "[106] {ORGANIC HASS AVOCADO,                                                                                                                                              \n",
      "       ORGANIC TOMATO CLUSTER}                               => {BAG OF ORGANIC BANANAS}                                0.001348993  0.4050343 0.003330564  3.637021   177\n",
      "[107] {ORGANIC STRAWBERRIES,                                                                                                                                              \n",
      "       ORGANIC WHOLE STRING CHEESE}                          => {BAG OF ORGANIC BANANAS}                                0.001379479  0.4013304 0.003437264  3.603761   181\n",
      "[108] {ORGANIC BABY SPINACH,                                                                                                                                              \n",
      "       ORGANIC LEMON}                                        => {BAG OF ORGANIC BANANAS}                                0.001752929  0.4006969 0.004374700  3.598072   230\n",
      "[109] {ORGANIC GARNET SWEET POTATO (YAM),                                                                                                                                 \n",
      "       ORGANIC HASS AVOCADO}                                 => {BAG OF ORGANIC BANANAS}                                0.001044136  0.3982558 0.002621771  3.576153   137\n",
      "[110] {ORGANIC HASS AVOCADO,                                                                                                                                              \n",
      "       ORGANIC WHOLE MILK}                                   => {BAG OF ORGANIC BANANAS}                                0.001249914  0.3970944 0.003147650  3.565724   164\n",
      "[111] {ORGANIC STRAWBERRIES,                                                                                                                                              \n",
      "       ORGANIC TOMATO CLUSTER}                               => {BAG OF ORGANIC BANANAS}                                0.001341371  0.3963964 0.003383914  3.559456   176\n",
      "[112] {FRESH CAULIFLOWER,                                                                                                                                                 \n",
      "       ORGANIC HASS AVOCADO}                                 => {BAG OF ORGANIC BANANAS}                                0.001006029  0.3963964 0.002537936  3.559456   132\n",
      "[113] {ORGANIC BABY SPINACH,                                                                                                                                              \n",
      "       ORGANIC LARGE EXTRA FANCY FUJI APPLE}                 => {BAG OF ORGANIC BANANAS}                                0.001227050  0.3946078 0.003109543  3.543396   161\n",
      "[114] {HONEYCRISP APPLE,                                                                                                                                                  \n",
      "       STRAWBERRIES}                                         => {BANANA}                                                0.001249914  0.4753623 0.002629393  3.536619   164\n",
      "[115] {ORGANIC GRAPE TOMATOES,                                                                                                                                            \n",
      "       ORGANIC HASS AVOCADO}                                 => {BAG OF ORGANIC BANANAS}                                0.001310886  0.3917995 0.003345807  3.518179   172\n",
      "[116] {ORGANIC HASS AVOCADO,                                                                                                                                              \n",
      "       ORGANIC ZUCCHINI}                                     => {BAG OF ORGANIC BANANAS}                                0.001707200  0.3862069 0.004420428  3.467959   224\n",
      "[117] {ORGANIC BABY SPINACH,                                                                                                                                              \n",
      "       ORGANIC RASPBERRIES}                                  => {BAG OF ORGANIC BANANAS}                                0.001981571  0.3823529 0.005182571  3.433353   260\n"
     ]
    },
    {
     "name": "stdout",
     "output_type": "stream",
     "text": [
      "[118] {ORGANIC BABY SPINACH,                                                                                                                                              \n",
      "       ORGANIC HASS AVOCADO}                                 => {BAG OF ORGANIC BANANAS}                                0.003330564  0.3819930 0.008718914  3.430120   437\n",
      "[119] {ORGANIC GRADE A FREE RANGE LARGE BROWN EGGS,                                                                                                                       \n",
      "       ORGANIC STRAWBERRIES}                                 => {BAG OF ORGANIC BANANAS}                                0.001021271  0.3817664 0.002675121  3.428085   134\n",
      "[120] {ORGANIC RASPBERRIES,                                                                                                                                               \n",
      "       ORGANIC WHOLE MILK}                                   => {BAG OF ORGANIC BANANAS}                                0.001059379  0.3808219 0.002781821  3.419605   139\n",
      "[121] {ORGANIC HASS AVOCADO,                                                                                                                                              \n",
      "       ORGANIC SMALL BUNCH CELERY}                           => {BAG OF ORGANIC BANANAS}                                0.001074621  0.3780161 0.002842793  3.394410   141\n",
      "[122] {ORGANIC STRAWBERRIES,                                                                                                                                              \n",
      "       ORGANIC ZUCCHINI}                                     => {BAG OF ORGANIC BANANAS}                                0.001951086  0.3770250 0.005174950  3.385510   256\n",
      "[123] {ORGANIC GALA APPLES,                                                                                                                                               \n",
      "       ORGANIC STRAWBERRIES}                                 => {BAG OF ORGANIC BANANAS}                                0.001432829  0.3767535 0.003803093  3.383072   188\n",
      "[124] {ORGANIC AVOCADO,                                                                                                                                                   \n",
      "       ORGANIC FUJI APPLE}                                   => {BANANA}                                                0.001166079  0.4513274 0.002583664  3.357803   153\n",
      "[125] {ORGANIC RASPBERRIES,                                                                                                                                               \n",
      "       ORGANIC STRAWBERRIES}                                 => {BAG OF ORGANIC BANANAS}                                0.004222271  0.3730640 0.011317821  3.349942   554\n",
      "[126] {ORGANIC AVOCADO,                                                                                                                                                   \n",
      "       STRAWBERRIES}                                         => {BANANA}                                                0.001821521  0.4475655 0.004069843  3.329816   239\n",
      "[127] {ORGANIC SMALL BUNCH CELERY,                                                                                                                                        \n",
      "       ORGANIC STRAWBERRIES}                                 => {BAG OF ORGANIC BANANAS}                                0.001204186  0.3665893 0.003284836  3.291803   158\n",
      "[128] {ORGANIC CUCUMBER,                                                                                                                                                  \n",
      "       ORGANIC YELLOW ONION}                                 => {BAG OF ORGANIC BANANAS}                                0.001044136  0.3653333 0.002858036  3.280524   137\n",
      "[129] {ORGANIC STRAWBERRIES,                                                                                                                                              \n",
      "       ORGANIC YELLOW ONION}                                 => {BAG OF ORGANIC BANANAS}                                0.001676714  0.3648425 0.004595721  3.276116   220\n",
      "[130] {ORGANIC BABY SPINACH,                                                                                                                                              \n",
      "       ORGANIC GALA APPLES}                                  => {BAG OF ORGANIC BANANAS}                                0.001112729  0.3622829 0.003071436  3.253133   146\n",
      "[131] {ORGANIC GARNET SWEET POTATO (YAM),                                                                                                                                 \n",
      "       ORGANIC STRAWBERRIES}                                 => {BAG OF ORGANIC BANANAS}                                0.001089864  0.3620253 0.003010464  3.250820   143\n",
      "[132] {FRESH CAULIFLOWER,                                                                                                                                                 \n",
      "       ORGANIC STRAWBERRIES}                                 => {BAG OF ORGANIC BANANAS}                                0.001204186  0.3607306 0.003338186  3.239194   158\n",
      "[133] {ORGANIC HASS AVOCADO,                                                                                                                                              \n",
      "       ORGANIC RED ONION}                                    => {BAG OF ORGANIC BANANAS}                                0.001371857  0.3600000 0.003810714  3.232633   180\n",
      "[134] {ORGANIC RED BELL PEPPER,                                                                                                                                           \n",
      "       ORGANIC STRAWBERRIES}                                 => {BAG OF ORGANIC BANANAS}                                0.001371857  0.3592814 0.003818336  3.226181   180\n",
      "[135] {ORGANIC LEMON,                                                                                                                                                     \n",
      "       ORGANIC YELLOW ONION}                                 => {BAG OF ORGANIC BANANAS}                                0.001028893  0.3580902 0.002873279  3.215484   135\n",
      "[136] {ORGANIC GARLIC,                                                                                                                                                    \n",
      "       ORGANIC HASS AVOCADO}                                 => {BAG OF ORGANIC BANANAS}                                0.001608121  0.3540268 0.004542371  3.178997   211\n",
      "[137] {ORGANIC BABY SPINACH,                                                                                                                                              \n",
      "       ORGANIC TOMATO CLUSTER}                               => {BAG OF ORGANIC BANANAS}                                0.001028893  0.3524804 0.002919007  3.165111   135\n",
      "[138] {ORGANIC GARLIC,                                                                                                                                                    \n",
      "       ORGANIC STRAWBERRIES}                                 => {BAG OF ORGANIC BANANAS}                                0.001539529  0.3513043 0.004382321  3.154551   202\n",
      "[139] {LARGE LEMON,                                                                                                                                                       \n",
      "       ORGANIC FUJI APPLE}                                   => {BANANA}                                                0.001105107  0.4239766 0.002606529  3.154318   145\n",
      "[140] {ORGANIC BABY SPINACH,                                                                                                                                              \n",
      "       ORGANIC STRAWBERRIES}                                 => {BAG OF ORGANIC BANANAS}                                0.004039357  0.3491436 0.011569328  3.135148   530\n",
      "[141] {ORGANIC BABY SPINACH,                                                                                                                                              \n"
     ]
    },
    {
     "name": "stdout",
     "output_type": "stream",
     "text": [
      "       ORGANIC UNSWEETENED ALMOND MILK}                      => {BAG OF ORGANIC BANANAS}                                0.001089864  0.3479319 0.003132407  3.124267   143\n",
      "[142] {ORGANIC GRANNY SMITH APPLE,                                                                                                                                        \n",
      "       ORGANIC STRAWBERRIES}                                 => {BAG OF ORGANIC BANANAS}                                0.001181321  0.3475336 0.003399157  3.120691   155\n",
      "[143] {ASPARAGUS,                                                                                                                                                         \n",
      "       ORGANIC HASS AVOCADO}                                 => {BAG OF ORGANIC BANANAS}                                0.001006029  0.3473684 0.002896143  3.119208   132\n",
      "[144] {HONEYCRISP APPLE,                                                                                                                                                  \n",
      "       LARGE LEMON}                                          => {BANANA}                                                0.001539529  0.4182195 0.003681150  3.111485   202\n",
      "[145] {ORGANIC NAVEL ORANGE}                                 => {BAG OF ORGANIC BANANAS}                                0.004885336  0.3462993 0.014107264  3.109607   641\n",
      "[146] {ORGANIC BABY CARROTS,                                                                                                                                              \n",
      "       ORGANIC STRAWBERRIES}                                 => {BAG OF ORGANIC BANANAS}                                0.001623364  0.3457792 0.004694800  3.104937   213\n",
      "[147] {ORGANIC STRAWBERRIES,                                                                                                                                              \n",
      "       ORGANIC WHOLE MILK}                                   => {BAG OF ORGANIC BANANAS}                                0.002248321  0.3438228 0.006539186  3.087370   295\n",
      "[148] {LIMES,                                                                                                                                                             \n",
      "       STRAWBERRIES}                                         => {BANANA}                                                0.001196564  0.4142480 0.002888521  3.081939   157\n",
      "[149] {ORGANIC RED ONION,                                                                                                                                                 \n",
      "       ORGANIC STRAWBERRIES}                                 => {BAG OF ORGANIC BANANAS}                                0.001432829  0.3430657 0.004176543  3.080571   188\n",
      "[150] {ORGANIC PEELED WHOLE BABY CARROTS,                                                                                                                                 \n",
      "       ORGANIC STRAWBERRIES}                                 => {BAG OF ORGANIC BANANAS}                                0.001036514  0.3391521 0.003056193  3.045429   136\n",
      "[151] {ORGANIC BABY SPINACH,                                                                                                                                              \n",
      "       ORGANIC CUCUMBER}                                     => {BAG OF ORGANIC BANANAS}                                0.002194971  0.3388235 0.006478214  3.042479   288\n",
      "[152] {ORGANIC WHOLE GRASSMILK MILK}                         => {BAG OF ORGANIC BANANAS}                                0.001150836  0.3385650 0.003399157  3.040157   151\n",
      "[153] {LARGE LEMON,                                                                                                                                                       \n",
      "       STRAWBERRIES}                                         => {BANANA}                                                0.001905357  0.4051864 0.004702421  3.014521   250\n",
      "[154] {ORGANIC GRAPE TOMATOES,                                                                                                                                            \n",
      "       ORGANIC STRAWBERRIES}                                 => {BAG OF ORGANIC BANANAS}                                0.001669093  0.3353752 0.004976793  3.011514   219\n",
      "[155] {CUCUMBER KIRBY,                                                                                                                                                    \n",
      "       ORGANIC AVOCADO}                                      => {BANANA}                                                0.001181321  0.4046997 0.002919007  3.010901   155\n",
      "[156] {ORGANIC FUJI APPLES}                                  => {BAG OF ORGANIC BANANAS}                                0.001028893  0.3333333 0.003086679  2.993179   135\n",
      "[157] {ORGANIC CUCUMBER,                                                                                                                                                  \n",
      "       ORGANIC RED ONION}                                    => {BAG OF ORGANIC BANANAS}                                0.001143214  0.3325942 0.003437264  2.986542   150\n",
      "[158] {ORGANIC AVOCADO,                                                                                                                                                   \n",
      "       SEEDLESS RED GRAPES}                                  => {BANANA}                                                0.001280400  0.4009547 0.003193379  2.983038   168\n",
      "[159] {ORGANIC LARGE GREEN ASPARAGUS}                        => {BAG OF ORGANIC BANANAS}                                0.001730064  0.3313869 0.005220678  2.975701   227\n",
      "[160] {HONEYCRISP APPLE,                                                                                                                                                  \n",
      "       ORGANIC AVOCADO}                                      => {BANANA}                                                0.001570014  0.3984526 0.003940278  2.964423   206\n",
      "[161] {ORGANIC KIWI}                                         => {BAG OF ORGANIC BANANAS}                                0.004336593  0.3300464 0.013139343  2.963664   569\n",
      "[162] {ORGANIC CILANTRO,                                                                                                                                                  \n",
      "       ORGANIC STRAWBERRIES}                                 => {BAG OF ORGANIC BANANAS}                                0.001265157  0.3293651 0.003841200  2.957546   166\n",
      "[163] {ORGANIC BARTLETT PEAR}                                => {BAG OF ORGANIC BANANAS}                                0.002301671  0.3282609 0.007011714  2.947631   302\n",
      "[164] {SEEDLESS RED GRAPES,                                                                                                                                               \n",
      "       STRAWBERRIES}                                         => {BANANA}                                                0.001463314  0.3950617 0.003704014  2.939196   192\n",
      "[165] {BROCCOLI CROWN,                                                                                                                                                    \n",
      "       ORGANIC AVOCADO}                                      => {BANANA}                                                0.001333750  0.3941441 0.003383914  2.932369   175\n",
      "[166] {ORGANIC AVOCADO,                                                                                                                                                   \n",
      "       RED PEPPERS}                                          => {BANANA}                                                0.001303264  0.3931034 0.003315321  2.924626   171\n",
      "[167] {ORGANIC LARGE EXTRA FANCY FUJI APPLE}                 => {BAG OF ORGANIC BANANAS}                                0.006531564  0.3208536 0.020356835  2.881117   857\n",
      "[168] {ORGANIC BABY SPINACH,                                                                                                                                              \n"
     ]
    },
    {
     "name": "stdout",
     "output_type": "stream",
     "text": [
      "       ORGANIC BLUEBERRIES}                                  => {BAG OF ORGANIC BANANAS}                                0.001570014  0.3203733 0.004900578  2.876804   206\n",
      "[169] {ORGANIC CUCUMBER,                                                                                                                                                  \n",
      "       ORGANIC ZUCCHINI}                                     => {BAG OF ORGANIC BANANAS}                                0.001059379  0.3202765 0.003307700  2.875935   139\n",
      "[170] {ORGANIC BLUEBERRIES,                                                                                                                                               \n",
      "       ORGANIC RASPBERRIES}                                  => {BAG OF ORGANIC BANANAS}                                0.001501421  0.3198052 0.004694800  2.871703   197\n",
      "[171] {ORGANIC GARLIC,                                                                                                                                                    \n",
      "       ORGANIC LEMON}                                        => {BAG OF ORGANIC BANANAS}                                0.001006029  0.3180723 0.003162893  2.856142   132\n",
      "[172] {ORGANIC CUCUMBER,                                                                                                                                                  \n",
      "       ORGANIC GRAPE TOMATOES}                               => {BAG OF ORGANIC BANANAS}                                0.001105107  0.3172867 0.003482993  2.849087   145\n",
      "[173] {ORGANIC CRIPPS PINK APPLES}                           => {BAG OF ORGANIC BANANAS}                                0.001638607  0.3147877 0.005205436  2.826648   215\n",
      "[174] {ORGANIC HASS AVOCADO}                                 => {BAG OF ORGANIC BANANAS}                                0.016370828  0.3145409 0.052046735  2.824432  2148\n",
      "[175] {ORGANIC CILANTRO,                                                                                                                                                  \n",
      "       ORGANIC HASS AVOCADO}                                 => {BAG OF ORGANIC BANANAS}                                0.001097486  0.3144105 0.003490614  2.823261   144\n",
      "[176] {BARTLETT PEARS}                                       => {BANANA}                                                0.003292457  0.3772926 0.008726536  2.806996   432\n",
      "[177] {GALA APPLES}                                          => {BANANA}                                                0.002553179  0.3734671 0.006836421  2.778535   335\n",
      "[178] {ASPARAGUS,                                                                                                                                                         \n",
      "       ORGANIC STRAWBERRIES}                                 => {BAG OF ORGANIC BANANAS}                                0.001333750  0.3075571 0.004336593  2.761721   175\n",
      "[179] {ORGANIC THOMPSON SEEDLESS RAISINS}                    => {BAG OF ORGANIC BANANAS}                                0.001082243  0.3066955 0.003528721  2.753983   142\n",
      "[180] {ORGANIC AVOCADO,                                                                                                                                                   \n",
      "       ORGANIC WHOLE MILK}                                   => {BANANA}                                                0.001310886  0.3690987 0.003551586  2.746035   172\n",
      "[181] {ORGANIC WHOLE STRAWBERRIES}                           => {BAG OF ORGANIC BANANAS}                                0.002697986  0.3051724 0.008840857  2.740307   354\n",
      "[182] {ORGANIC BOSC PEAR}                                    => {BAG OF ORGANIC BANANAS}                                0.001531907  0.3045455 0.005030143  2.734677   201\n",
      "[183] {ORGANIC RASPBERRIES}                                  => {BAG OF ORGANIC BANANAS}                                0.011965643  0.3043815 0.039311328  2.733205  1570\n",
      "[184] {ORGANIC BROCCOLI}                                     => {BAG OF ORGANIC BANANAS}                                0.003589693  0.3042636 0.011797971  2.732146   471\n",
      "[185] {ORGANIC BABY SPINACH,                                                                                                                                              \n",
      "       ORGANIC YELLOW ONION}                                 => {BAG OF ORGANIC BANANAS}                                0.001608121  0.3031609 0.005304514  2.722245   211\n",
      "[186] {LIMES,                                                                                                                                                             \n",
      "       ORGANIC STRAWBERRIES}                                 => {BAG OF ORGANIC BANANAS}                                0.001722443  0.3029491 0.005685586  2.720342   226\n",
      "[187] {SWEET POTATO YAM}                                     => {BANANA}                                                0.001059379  0.3648294 0.002903764  2.714272   139\n",
      "[188] {ORGANIC BROCCOLI CROWNS}                              => {BAG OF ORGANIC BANANAS}                                0.001745307  0.3013158 0.005792286  2.705676   229\n",
      "[189] {MILK~~ ORGANIC~~ VITAMIN D}                           => {BAG OF ORGANIC BANANAS}                                0.001242293  0.3012939 0.004123193  2.705480   163\n",
      "[190] {ORGANIC YELLOW ONION,                                                                                                                                              \n",
      "       ORGANIC ZUCCHINI}                                     => {BAG OF ORGANIC BANANAS}                                0.001067000  0.3004292 0.003551586  2.697715   140\n",
      "[191] {ORGANIC FUJI APPLE}                                   => {BANANA}                                                0.008284493  0.3594577 0.023047200  2.674307  1087\n",
      "[192] {MICHIGAN ORGANIC KALE,                                                                                                                                             \n",
      "       ORGANIC AVOCADO}                                      => {BANANA}                                                0.001051757  0.3538462 0.002972357  2.632558   138\n",
      "[193] {HONEYCRISP APPLE,                                                                                                                                                  \n",
      "       ORGANIC STRAWBERRIES}                                 => {BANANA}                                                0.001402343  0.3538462 0.003963143  2.632558   184\n",
      "[194] {ORGANIC BABY SPINACH,                                                                                                                                              \n",
      "       YELLOW ONIONS}                                        => {BANANA}                                                0.001356614  0.3524752 0.003848821  2.622359   178\n",
      "[195] {ORGANIC AVOCADO,                                                                                                                                                   \n",
      "       YELLOW ONIONS}                                        => {BANANA}                                                0.001326129  0.3501006 0.003787850  2.604692   174\n",
      "[196] {BROCCOLI CROWN,                                                                                                                                                    \n",
      "       LARGE LEMON}                                          => {BANANA}                                                0.001288021  0.3491736 0.003688771  2.597795   169\n",
      "[197] {HONEYCRISP APPLE,                                                                                                                                                  \n",
      "       ORGANIC BABY SPINACH}                                 => {BANANA}                                                0.001204186  0.3487859 0.003452507  2.594911   158\n",
      "[198] {LARGE LEMON,                                                                                                                                                       \n"
     ]
    },
    {
     "name": "stdout",
     "output_type": "stream",
     "text": [
      "       MICHIGAN ORGANIC KALE}                                => {BANANA}                                                0.001181321  0.3475336 0.003399157  2.585594   155\n",
      "[199] {LARGE LEMON,                                                                                                                                                       \n",
      "       ORGANIC AVOCADO}                                      => {BANANA}                                                0.003300079  0.3475120 0.009496300  2.585434   433\n",
      "[200] {BROCCOLI CROWN,                                                                                                                                                    \n",
      "       ORGANIC BABY SPINACH}                                 => {BANANA}                                                0.001272779  0.3457557 0.003681150  2.572367   167\n",
      "[201] {CUCUMBER KIRBY,                                                                                                                                                    \n",
      "       LARGE LEMON}                                          => {BANANA}                                                0.001051757  0.3432836 0.003063814  2.553975   138\n",
      "[202] {ORGANIC AVOCADO,                                                                                                                                                   \n",
      "       ORGANIC BABY SPINACH}                                 => {BANANA}                                                0.003383914  0.3423285 0.009884993  2.546869   444\n",
      "[203] {ORGANIC AVOCADO,                                                                                                                                                   \n",
      "       ORGANIC STRAWBERRIES}                                 => {BANANA}                                                0.002583664  0.3420787 0.007552836  2.545011   339\n",
      "[204] {MANGO CHUNKS}                                         => {BANANA}                                                0.001852007  0.3384401 0.005472186  2.517940   243\n",
      "[205] {LARGE LEMON,                                                                                                                                                       \n",
      "       YELLOW ONIONS}                                        => {BANANA}                                                0.001775793  0.3371925 0.005266407  2.508658   233\n",
      "[206] {HONEYCRISP APPLE}                                     => {BANANA}                                                0.008566486  0.3369305 0.025425085  2.506708  1124\n",
      "[207] {LARGE LEMON,                                                                                                                                                       \n",
      "       SEEDLESS RED GRAPES}                                  => {BANANA}                                                0.001082243  0.3364929 0.003216243  2.503453   142\n",
      "[208] {ORGANIC BABY SPINACH,                                                                                                                                              \n",
      "       RED PEPPERS}                                          => {BANANA}                                                0.001143214  0.3363229 0.003399157  2.502188   150\n",
      "[209] {LARGE LEMON,                                                                                                                                                       \n",
      "       SMALL HASS AVOCADO}                                   => {BANANA}                                                0.001013650  0.3350126 0.003025707  2.492440   133\n",
      "[210] {ORGANIC AVOCADO,                                                                                                                                                   \n",
      "       ORGANIC BLUEBERRIES}                                  => {BANANA}                                                0.001044136  0.3349633 0.003117164  2.492073   137\n",
      "[211] {LARGE LEMON,                                                                                                                                                       \n",
      "       ORGANIC WHOLE MILK}                                   => {BANANA}                                                0.001143214  0.3325942 0.003437264  2.474448   150\n",
      "[212] {ORGANIC BABY SPINACH,                                                                                                                                              \n",
      "       STRAWBERRIES}                                         => {BANANA}                                                0.001539529  0.3316913 0.004641450  2.467730   202\n",
      "[213] {LARGE LEMON,                                                                                                                                                       \n",
      "       ORGANIC GRAPE TOMATOES}                               => {BANANA}                                                0.001341371  0.3302064 0.004062221  2.456682   176\n",
      "[214] {ORGANIC AVOCADO,                                                                                                                                                   \n",
      "       ORGANIC GARLIC}                                       => {BANANA}                                                0.001310886  0.3276190 0.004001250  2.437433   172\n",
      "[215] {ASPARAGUS,                                                                                                                                                         \n",
      "       ORGANIC AVOCADO}                                      => {BANANA}                                                0.001158457  0.3268817 0.003543964  2.431947   152\n",
      "[216] {LIMES,                                                                                                                                                             \n",
      "       ORGANIC AVOCADO}                                      => {BANANA}                                                0.002393129  0.3264033 0.007331814  2.428388   314\n",
      "[217] {ORGANIC AVOCADO,                                                                                                                                                   \n",
      "       ORGANIC BABY ARUGULA}                                 => {BANANA}                                                0.001006029  0.3243243 0.003101921  2.412921   132\n",
      "[218] {ASPARATION/BROCCOLINI/BABY BROCCOLI}                  => {BANANA}                                                0.001440450  0.3236301 0.004450914  2.407756   189\n",
      "[219] {LARGE LEMON,                                                                                                                                                       \n",
      "       ORGANIC STRAWBERRIES}                                 => {BANANA}                                                0.002301671  0.3223052 0.007141278  2.397899   302\n",
      "[220] {MEDIUM NAVEL ORANGE}                                  => {BANANA}                                                0.001821521  0.3199465 0.005693207  2.380350   239\n",
      "[221] {MANDARIN ORANGES}                                     => {BANANA}                                                0.001067000  0.3160271 0.003376293  2.351191   140\n",
      "[222] {XL EMERALD WHITE SEEDLESS GRAPES}                     => {BANANA}                                                0.001417586  0.3136594 0.004519507  2.333575   186\n",
      "[223] {WHOLE WHEAT BREAD}                                    => {BANANA}                                                0.001112729  0.3126338 0.003559207  2.325945   146\n",
      "[224] {CLEMENTINES~~ BAG}                                    => {BANANA}                                                0.003246729  0.3125459 0.010388007  2.325291   426\n",
      "[225] {ORGANIC BABY SPINACH,                                                                                                                                              \n",
      "       SEEDLESS RED GRAPES}                                  => {BANANA}                                                0.001067000  0.3125000 0.003414400  2.324950   140\n"
     ]
    },
    {
     "name": "stdout",
     "output_type": "stream",
     "text": [
      "[226] {ORGANIC AVOCADO,                                                                                                                                                   \n",
      "       ORGANIC ZUCCHINI}                                     => {BANANA}                                                0.001303264  0.3114754 0.004184164  2.317327   171\n",
      "[227] {ORGANIC AVOCADO,                                                                                                                                                   \n",
      "       ORGANIC GRAPE TOMATOES}                               => {BANANA}                                                0.001463314  0.3091787 0.004732907  2.300240   192\n",
      "[228] {BERRY MEDLEY}                                         => {BANANA}                                                0.001509043  0.3088924 0.004885336  2.298109   198\n",
      "[229] {EUROPEAN CUCUMBER}                                    => {BANANA}                                                0.001364236  0.3075601 0.004435671  2.288198   179\n",
      "[230] {GREEN BELL PEPPER,                                                                                                                                                 \n",
      "       RED PEPPERS}                                          => {BANANA}                                                0.001059379  0.3061674 0.003460128  2.277836   139\n",
      "[231] {LARGE LEMON,                                                                                                                                                       \n",
      "       ORGANIC BLUEBERRIES}                                  => {BANANA}                                                0.001021271  0.3059361 0.003338186  2.276115   134\n",
      "[232] {GRANNY SMITH APPLES}                                  => {BANANA}                                                0.002972357  0.3046875 0.009755428  2.266826   390\n",
      "[233] {BROCCOLI CROWN}                                       => {BANANA}                                                0.006462971  0.3044883 0.021225678  2.265344   848\n"
     ]
    }
   ],
   "source": [
    "%%R\n",
    "Rules <- apriori(baskets, parameter=list(support=0.001, confidence=0.3, minlen=2))\n",
    "rulesordered <- sort(Rules, by = \"lift\")\n",
    "inspect(rulesordered)"
   ]
  },
  {
   "cell_type": "code",
   "execution_count": 262,
   "id": "e891b4a8",
   "metadata": {},
   "outputs": [],
   "source": [
    "%%R\n",
    "write(Rules,\n",
    "      file = \"rulesdatabase.csv\",\n",
    "      sep = \"|\",\n",
    "      quote = TRUE,\n",
    "      row.names = FALSE)"
   ]
  },
  {
   "cell_type": "code",
   "execution_count": 263,
   "id": "d5a95815",
   "metadata": {},
   "outputs": [],
   "source": [
    "pyrules = pd.read_csv(\"rulesdatabase.csv\", sep='|')"
   ]
  },
  {
   "cell_type": "code",
   "execution_count": 264,
   "id": "fe60dc2a",
   "metadata": {},
   "outputs": [
    {
     "data": {
      "text/html": [
       "<div>\n",
       "<style scoped>\n",
       "    .dataframe tbody tr th:only-of-type {\n",
       "        vertical-align: middle;\n",
       "    }\n",
       "\n",
       "    .dataframe tbody tr th {\n",
       "        vertical-align: top;\n",
       "    }\n",
       "\n",
       "    .dataframe thead th {\n",
       "        text-align: right;\n",
       "    }\n",
       "</style>\n",
       "<table border=\"1\" class=\"dataframe\">\n",
       "  <thead>\n",
       "    <tr style=\"text-align: right;\">\n",
       "      <th></th>\n",
       "      <th>rules</th>\n",
       "      <th>support</th>\n",
       "      <th>confidence</th>\n",
       "      <th>coverage</th>\n",
       "      <th>lift</th>\n",
       "      <th>count</th>\n",
       "    </tr>\n",
       "  </thead>\n",
       "  <tbody>\n",
       "    <tr>\n",
       "      <th>0</th>\n",
       "      <td>{ORGANIC FUJI APPLES} =&gt; {BAG OF ORGANIC BANANAS}</td>\n",
       "      <td>0.001029</td>\n",
       "      <td>0.333333</td>\n",
       "      <td>0.003087</td>\n",
       "      <td>2.993179</td>\n",
       "      <td>135</td>\n",
       "    </tr>\n",
       "    <tr>\n",
       "      <th>1</th>\n",
       "      <td>{NONFAT ICELANDIC STYLE STRAWBERRY YOGURT} =&gt; ...</td>\n",
       "      <td>0.001090</td>\n",
       "      <td>0.412104</td>\n",
       "      <td>0.002645</td>\n",
       "      <td>81.433314</td>\n",
       "      <td>143</td>\n",
       "    </tr>\n",
       "    <tr>\n",
       "      <th>2</th>\n",
       "      <td>{SWEET POTATO YAM} =&gt; {BANANA}</td>\n",
       "      <td>0.001059</td>\n",
       "      <td>0.364829</td>\n",
       "      <td>0.002904</td>\n",
       "      <td>2.714272</td>\n",
       "      <td>139</td>\n",
       "    </tr>\n",
       "    <tr>\n",
       "      <th>3</th>\n",
       "      <td>{ORGANIC YELLOW SQUASH} =&gt; {ORGANIC ZUCCHINI}</td>\n",
       "      <td>0.001235</td>\n",
       "      <td>0.451253</td>\n",
       "      <td>0.002736</td>\n",
       "      <td>13.686666</td>\n",
       "      <td>162</td>\n",
       "    </tr>\n",
       "    <tr>\n",
       "      <th>4</th>\n",
       "      <td>{ORGANIC WHOLE GRASSMILK MILK} =&gt; {BAG OF ORGA...</td>\n",
       "      <td>0.001151</td>\n",
       "      <td>0.338565</td>\n",
       "      <td>0.003399</td>\n",
       "      <td>3.040157</td>\n",
       "      <td>151</td>\n",
       "    </tr>\n",
       "    <tr>\n",
       "      <th>...</th>\n",
       "      <td>...</td>\n",
       "      <td>...</td>\n",
       "      <td>...</td>\n",
       "      <td>...</td>\n",
       "      <td>...</td>\n",
       "      <td>...</td>\n",
       "    </tr>\n",
       "    <tr>\n",
       "      <th>228</th>\n",
       "      <td>{BAG OF ORGANIC BANANAS,ORGANIC HASS AVOCADO,O...</td>\n",
       "      <td>0.001410</td>\n",
       "      <td>0.426267</td>\n",
       "      <td>0.003308</td>\n",
       "      <td>5.452340</td>\n",
       "      <td>185</td>\n",
       "    </tr>\n",
       "    <tr>\n",
       "      <th>229</th>\n",
       "      <td>{BAG OF ORGANIC BANANAS,ORGANIC RASPBERRIES,OR...</td>\n",
       "      <td>0.001410</td>\n",
       "      <td>0.333935</td>\n",
       "      <td>0.004222</td>\n",
       "      <td>6.416061</td>\n",
       "      <td>185</td>\n",
       "    </tr>\n",
       "    <tr>\n",
       "      <th>230</th>\n",
       "      <td>{BAG OF ORGANIC BANANAS,ORGANIC HASS AVOCADO,O...</td>\n",
       "      <td>0.001410</td>\n",
       "      <td>0.306799</td>\n",
       "      <td>0.004596</td>\n",
       "      <td>7.804349</td>\n",
       "      <td>185</td>\n",
       "    </tr>\n",
       "    <tr>\n",
       "      <th>231</th>\n",
       "      <td>{ORGANIC BABY SPINACH,ORGANIC HASS AVOCADO,ORG...</td>\n",
       "      <td>0.001059</td>\n",
       "      <td>0.474403</td>\n",
       "      <td>0.002233</td>\n",
       "      <td>4.259917</td>\n",
       "      <td>139</td>\n",
       "    </tr>\n",
       "    <tr>\n",
       "      <th>232</th>\n",
       "      <td>{BAG OF ORGANIC BANANAS,ORGANIC BABY SPINACH,O...</td>\n",
       "      <td>0.001059</td>\n",
       "      <td>0.318078</td>\n",
       "      <td>0.003331</td>\n",
       "      <td>4.068500</td>\n",
       "      <td>139</td>\n",
       "    </tr>\n",
       "  </tbody>\n",
       "</table>\n",
       "<p>233 rows × 6 columns</p>\n",
       "</div>"
      ],
      "text/plain": [
       "                                                 rules   support  confidence  \\\n",
       "0    {ORGANIC FUJI APPLES} => {BAG OF ORGANIC BANANAS}  0.001029    0.333333   \n",
       "1    {NONFAT ICELANDIC STYLE STRAWBERRY YOGURT} => ...  0.001090    0.412104   \n",
       "2                       {SWEET POTATO YAM} => {BANANA}  0.001059    0.364829   \n",
       "3        {ORGANIC YELLOW SQUASH} => {ORGANIC ZUCCHINI}  0.001235    0.451253   \n",
       "4    {ORGANIC WHOLE GRASSMILK MILK} => {BAG OF ORGA...  0.001151    0.338565   \n",
       "..                                                 ...       ...         ...   \n",
       "228  {BAG OF ORGANIC BANANAS,ORGANIC HASS AVOCADO,O...  0.001410    0.426267   \n",
       "229  {BAG OF ORGANIC BANANAS,ORGANIC RASPBERRIES,OR...  0.001410    0.333935   \n",
       "230  {BAG OF ORGANIC BANANAS,ORGANIC HASS AVOCADO,O...  0.001410    0.306799   \n",
       "231  {ORGANIC BABY SPINACH,ORGANIC HASS AVOCADO,ORG...  0.001059    0.474403   \n",
       "232  {BAG OF ORGANIC BANANAS,ORGANIC BABY SPINACH,O...  0.001059    0.318078   \n",
       "\n",
       "     coverage       lift  count  \n",
       "0    0.003087   2.993179    135  \n",
       "1    0.002645  81.433314    143  \n",
       "2    0.002904   2.714272    139  \n",
       "3    0.002736  13.686666    162  \n",
       "4    0.003399   3.040157    151  \n",
       "..        ...        ...    ...  \n",
       "228  0.003308   5.452340    185  \n",
       "229  0.004222   6.416061    185  \n",
       "230  0.004596   7.804349    185  \n",
       "231  0.002233   4.259917    139  \n",
       "232  0.003331   4.068500    139  \n",
       "\n",
       "[233 rows x 6 columns]"
      ]
     },
     "execution_count": 264,
     "metadata": {},
     "output_type": "execute_result"
    }
   ],
   "source": [
    "pyrules"
   ]
  },
  {
   "cell_type": "code",
   "execution_count": 265,
   "id": "3d286a35",
   "metadata": {},
   "outputs": [],
   "source": [
    "pyrules.to_excel(\"rules.xlsx\")"
   ]
  }
 ],
 "metadata": {
  "colab": {
   "provenance": []
  },
  "kernelspec": {
   "display_name": "Python 3 (ipykernel)",
   "language": "python",
   "name": "python3"
  },
  "language_info": {
   "codemirror_mode": {
    "name": "ipython",
    "version": 3
   },
   "file_extension": ".py",
   "mimetype": "text/x-python",
   "name": "python",
   "nbconvert_exporter": "python",
   "pygments_lexer": "ipython3",
   "version": "3.10.4"
  }
 },
 "nbformat": 4,
 "nbformat_minor": 5
}
